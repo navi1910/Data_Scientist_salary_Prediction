{
 "cells": [
  {
   "cell_type": "code",
   "execution_count": null,
   "id": "e1fce2bf",
   "metadata": {},
   "outputs": [],
   "source": []
  }
 ],
 "metadata": {
  "kernelspec": {
   "display_name": "Python 3.7.11 64-bit",
   "language": "python",
   "name": "python3"
  },
  "language_info": {
   "codemirror_mode": {
    "name": "ipython",
    "version": 3
   },
   "file_extension": ".py",
   "mimetype": "text/x-python",
   "name": "python",
   "nbconvert_exporter": "python",
   "pygments_lexer": "ipython3",
   "version": "3.7.11"
  },
  "vscode": {
   "interpreter": {
    "hash": "0b07a07976a5479e15509802080645050aaa5d26359c6cf3a0decaa3628eb231"
   }
  }
 },
 "nbformat": 4,
 "nbformat_minor": 5
}
